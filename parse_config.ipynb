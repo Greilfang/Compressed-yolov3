{
 "cells": [
  {
   "cell_type": "code",
   "execution_count": null,
   "metadata": {},
   "outputs": [],
   "source": [
    "def parse_model_config(path):\n",
    "    f = open(path, 'r') #读取文件\n",
    "    module_defs = [] # 创建列表, 列表中的元素为字典\n",
    "    for line in f.readlines(): # 逐行读取\n",
    "        line = line.strip() # 消除行头尾的空白符(空格, 回车等)\n",
    "        if not line or line.startswith('#'): # 如果遇到空行或者注释行, 则跳过\n",
    "            continue\n",
    "        if line.startswith('['):# 遇到模块的起始, 在列表后添加新的字典\n",
    "            module_defs.append({})\n",
    "            module_defs[-1]['type'] = line[1:-1].strip() # 根据参数值为字典赋值\n",
    "            if(module_defs[-1]['type']==\"convolutional\"):\n",
    "                module_defs[-1][\"batch_normalize\"] = 0\n",
    "        else:\n",
    "            key, value = line.split('=')# 根据参数值为字典赋值, 注意要去除空白符\n",
    "            module_defs[-1][key.strip()] = value.strip()\n",
    "    return module_defs"
   ]
  }
 ],
 "metadata": {
  "kernelspec": {
   "display_name": "Python 3",
   "language": "python",
   "name": "python3"
  },
  "language_info": {
   "codemirror_mode": {
    "name": "ipython",
    "version": 3
   },
   "file_extension": ".py",
   "mimetype": "text/x-python",
   "name": "python",
   "nbconvert_exporter": "python",
   "pygments_lexer": "ipython3",
   "version": "3.7.3"
  }
 },
 "nbformat": 4,
 "nbformat_minor": 2
}
